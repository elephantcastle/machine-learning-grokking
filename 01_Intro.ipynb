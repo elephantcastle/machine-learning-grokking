{
  "nbformat": 4,
  "nbformat_minor": 0,
  "metadata": {
    "colab": {
      "name": "01 - Intro.ipynb",
      "provenance": [],
      "authorship_tag": "ABX9TyMb1cHCtVdTCof2VHHL0SET",
      "include_colab_link": true
    },
    "kernelspec": {
      "name": "python3",
      "display_name": "Python 3"
    },
    "language_info": {
      "name": "python"
    }
  },
  "cells": [
    {
      "cell_type": "markdown",
      "metadata": {
        "id": "view-in-github",
        "colab_type": "text"
      },
      "source": [
        "<a href=\"https://colab.research.google.com/github/elephantcastle/machine-learning-grokking/blob/main/01_Intro.ipynb\" target=\"_parent\"><img src=\"https://colab.research.google.com/assets/colab-badge.svg\" alt=\"Open In Colab\"/></a>"
      ]
    },
    {
      "cell_type": "markdown",
      "source": [
        "## Basic Definitions\n",
        "**Artificial intelligence**: The set of all tasks in which a computer can make decisions\n",
        "\n",
        "**Machine learning**: The set of all tasks in which a computer can make decisions based on data\n",
        "\n",
        "**Deep learning**: The field of machine learning that uses certain objects called neural networks\n",
        "\n",
        "**Remember-formulate-predict framework**: try to make decision based on past data, goal of machine learning\n",
        "\n",
        "**Model**: A set of rules that represent our data and can be used to make predictions\n",
        "prediction: it is the guess the model makes about our data; it tries to guess the labels of the data\n",
        "\n",
        "**Algorithm**: A procedure, or a set of steps, used to solve a problem or perform a computation. In this book, the goal of an algorithm is to build a model.\n",
        "\n",
        "**Data**: information. If our data is in a table the each row is a data point; it can be labelled or unlabeled\n",
        "Features: properties/ characteristics of the data. If our data is in a table, the features are the columns of the table.\n",
        "Labels: feature we are trying to predict based on others available to us; it depends on the specific problem at hand\n",
        "Dimension: numbers of columns in the table\n",
        "\n",
        "The main three families of machine learning models are\n",
        "- reinforcement learning.\n",
        "- Supervised learning: works with labelled data; the goal is to predict the labels; image without label → it will try to guess whether it is a cat or a dog; the label of the data point. 2 types:\n",
        "regression models: predict numerical data. The output is a number, such as the weight of the animal\n",
        "classification models: predict categorical data. The output is a category, or a state, such as the type of animal (cat or dog)\n",
        "\n",
        "- Unsupervised learning: unlabeled data; it can still group similar data together; types:\n",
        "clustering algorithms: groups data into clusters based on similarity\n",
        "dimensionality reduction: simplify our data and faithfully describe it with fewer features\n",
        "generative algorithms: generate new data points that resemble the existing data (like deepfake)\n",
        "\n",
        "\n",
        "\n",
        "Simplifying the problem/dataset\n",
        "\n",
        "**Clustering**: branch of unsupervised machine learning → group the elements in our dataset into clusters where all the data points are similar; it reduces the number of rows in our data table\n",
        "\n",
        "**Dimensionality reduction**: reduce amounts of labels; it simplifies them by using macro categories; it reduces the number of columns in our data table\n",
        "\n",
        "**Matrix factorization and singular value decomposition**: split matrix in products of smaller ones"
      ],
      "metadata": {
        "id": "zg-Y6eE-U9EG"
      }
    }
  ]
}